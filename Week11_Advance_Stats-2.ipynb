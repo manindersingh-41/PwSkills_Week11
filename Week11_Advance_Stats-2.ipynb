{
 "cells": [
  {
   "cell_type": "markdown",
   "id": "a35cd83f-64f6-4feb-bbe7-6b58d358514c",
   "metadata": {},
   "source": [
    "# Week 11 Advance Statistics-1 Assignment 2"
   ]
  },
  {
   "cell_type": "markdown",
   "id": "54e37030-f667-4d8c-b316-c340d1443126",
   "metadata": {},
   "source": [
    "## Q1: What are the Probability Mass Function (PMF) and Probability Density Function (PDF)? Explain with an example."
   ]
  },
  {
   "cell_type": "markdown",
   "id": "ce240be3-eb35-4757-98fe-1048667eb5bc",
   "metadata": {},
   "source": [
    "#### The Probability Mass Function (PMF) and Probability Density Function (PDF) are two mathematical functions that are used to describe the probability of a random variable taking on a specific value.\n",
    "\n",
    "#### **Probability Mass Function (PMF)**\n",
    "\n",
    "#### A PMF is a function that gives the probability that a discrete random variable will take on a specific value. It is typically denoted by the letter p(x), where x is the value of the random variable.\n",
    "\n",
    "#### **Probability Density Function (PDF)**\n",
    "\n",
    "#### A PDF is a function that gives the probability that a continuous random variable will take on a specific value. It is typically denoted by the letter f(x), where x is the value of the random variable.\n",
    "\n",
    "#### Example\n",
    "\n",
    "#### Consider a coin toss experiment. The random variable in this experiment is the number of heads obtained. This is a discrete random variable, because it can only take on the values 0 or 1.\n",
    "\n",
    "#### The PMF for this experiment is as follows:\n",
    "\n",
    "+ p(0) = 1/2\n",
    "+ p(1) = 1/2\n",
    "\n",
    "\n",
    "#### This means that the probability of getting 0 heads in a coin toss is 1/2, and the probability of getting 1 head is 1/2."
   ]
  },
  {
   "cell_type": "markdown",
   "id": "d0f9e525-9154-4d17-8d56-bf29eaabe0b4",
   "metadata": {},
   "source": [
    "## Q2: What is Cumulative Density Function (CDF)? Explain with an example. Why CDF is used?"
   ]
  },
  {
   "cell_type": "markdown",
   "id": "0a007496-904b-4871-af9e-b75cba018dd1",
   "metadata": {},
   "source": [
    "#### The Cumulative Distribution Function (CDF) is a function that gives the probability that a random variable will take on a value less than or equal to a certain value. It is typically denoted by the letter F(x), where x is the value of the random variable.\n",
    "\n",
    "#### Example\n",
    "\n",
    "#### Consider the same coin toss experiment as in the previous example. The CDF for this experiment is as follows:\n",
    "\n",
    "+ F(0) = 0\n",
    "+ F(1) = 1\n",
    "\n",
    "#### This means that the probability of getting 0 heads or less in a coin toss is 0, and the probability of getting 1 head or less is 1.\n",
    "\n",
    "\n",
    "#### The CDF is used for a variety of reasons, including:\n",
    "\n",
    "+ To calculate the probability that a random variable will be less than or equal to a certain value.\n",
    "+ To compare the distribution of two or more random variables.\n",
    "+ To generate random samples from a given distribution.\n",
    "+ To test hypotheses about the distribution of a random variable.\n",
    "+ The CDF is a powerful tool in statistics and probability theory, and it is used in a wide variety of applications."
   ]
  },
  {
   "cell_type": "markdown",
   "id": "21f6a6ca-8c74-42c3-82d4-0d0904768ac3",
   "metadata": {},
   "source": [
    "## Q3: What are some examples of situations where the normal distribution might be used as a model? Explain how the parameters of the normal distribution relate to the shape of the distribution."
   ]
  },
  {
   "cell_type": "markdown",
   "id": "eb9eab11-5819-44f7-80a9-7345729b65ef",
   "metadata": {},
   "source": [
    "#### The normal distribution is a very versatile distribution that can be used to model a wide variety of phenomena, both in nature and in society. Here are some examples of situations where the normal distribution might be used as a model:\n",
    "\n",
    "+ The heights of people\n",
    "+ The weights of objects\n",
    "+ The IQ scores of students\n",
    "+ The errors in measurement\n",
    "\n",
    "#### The parameters of the normal distribution are the mean (μ) and the standard deviation (σ). The mean is the central value of the distribution, and the standard deviation is a measure of how spread out the distribution is.\n",
    "\n",
    "#### The mean and standard deviation relate to the shape of the normal distribution as follows:\n",
    "\n",
    "+ The mean determines the location of the peak of the distribution.\n",
    "+ The standard deviation determines the spread of the distribution. A larger standard deviation means that the distribution is more spread out, while a smaller standard deviation means that the distribution is more concentrated around the mean."
   ]
  },
  {
   "cell_type": "markdown",
   "id": "ca221088-aef9-4bf6-8483-54b3c244ccc4",
   "metadata": {},
   "source": [
    "## Q4: Explain the importance of Normal Distribution. Give a few real-life examples of Normal Distribution."
   ]
  },
  {
   "cell_type": "markdown",
   "id": "5c95d77c-9365-4696-ac07-876fa3755825",
   "metadata": {},
   "source": [
    "#### The normal distribution, also known as the Gaussian distribution, is the most important probability distribution in statistics. It is a continuous probability distribution that is symmetrical around its mean and has a bell-shaped curve. The normal distribution is used to model a wide variety of phenomena in nature and society, including:\n",
    "\n",
    "+ The heights of people\n",
    "+ The weights of objects\n",
    "+ The IQ scores of students\n",
    "+ The errors in measurement\n",
    "+ The blood pressure of people\n",
    "\n",
    "#### The normal distribution is important because it is a very versatile distribution that can be used to model a wide variety of phenomena. It is also important because it has a number of mathematical properties that make it easy to work with.\n",
    "\n",
    "#### Here are a few real-life examples of the normal distribution:\n",
    "\n",
    "+ Height: The heights of people are normally distributed. This means that most people are close to the average height, and there are fewer people who are very tall or very short.\n",
    "+ IQ scores: IQ scores are also normally distributed. This means that most people have an IQ score that is close to the average IQ score, and there are fewer people who have a very high or very low IQ score.\n",
    "+ Errors in measurement: When we measure something, there is always a small amount of error. These errors are normally distributed. This means that most of the time, the error will be small, and there is a smaller chance of a large error.\n",
    "+ Blood pressure: The blood pressure of people is normally distributed. This means that most people have a blood pressure that is close to the average blood pressure, and there are fewer people who have a very high or very low blood pressure."
   ]
  },
  {
   "cell_type": "markdown",
   "id": "5db22801-e1f4-413c-8149-36b1fbc4748e",
   "metadata": {},
   "source": [
    "## Q5: What is Bernaulli Distribution? Give an Example. What is the difference between Bernoulli Distribution and Binomial Distribution?"
   ]
  },
  {
   "cell_type": "markdown",
   "id": "a05dde58-3778-4ae4-ae8b-f2b26e21df17",
   "metadata": {},
   "source": [
    "#### The Bernoulli distribution is a discrete probability distribution that models a random experiment with two possible outcomes: success (usually denoted as 1) and failure (usually denoted as 0). It is named after the Swiss mathematician Jacob Bernoulli, who introduced it in the 18th century. The distribution is characterized by a single parameter, usually denoted as p, which represents the probability of success on a single trial.\n",
    "\n",
    "#### The probability mass function (PMF) of the Bernoulli distribution is as follows:\n",
    "\n",
    "+ P(X = 1) = p (probability of success)\n",
    "+ P(X = 0) = 1 - p (probability of failure)\n",
    "\n",
    "#### Example:\n",
    "#### One common example of a Bernoulli random variable is modeling the outcome of a single coin flip. If you define \"heads\" as success and \"tails\" as failure, then a Bernoulli distribution can be used to describe the probability of getting heads (success) on a single coin flip. If the coin is fair, p = 0.5.\n",
    "\n",
    "\n",
    "#### Difference Between Bernoulli Distribution and Binomial Distribution:\n",
    "\n",
    "#### **Number of Trials:**\n",
    "+ Bernoulli Distribution: It models a single trial or experiment with two possible outcomes (success or failure).\n",
    "+ Binomial Distribution: It models the number of successes in a fixed number (n) of independent and identical Bernoulli trials.\n",
    "\n",
    "\n",
    "#### **Parameter:**\n",
    "+ Bernoulli Distribution: It has one parameter, p, representing the probability of success on a single trial.\n",
    "+ Binomial Distribution: It has two parameters: n (the number of trials) and p (the probability of success on a single trial).\n",
    "\n",
    "\n",
    "#### **Random Variable:**\n",
    "+ Bernoulli Distribution: It represents the outcome of a single trial and is often denoted as X.\n",
    "+ Binomial Distribution: It represents the number of successes in a fixed number of trials and is often denoted as X or B(n, p).\n",
    "\n",
    "\n",
    "#### **Probability Function:**\n",
    "+ Bernoulli Distribution: It has a simple probability mass function with two possible values: P(X = 1) = p and P(X = 0) = 1 - p.\n",
    "+ Binomial Distribution: It has a more complex probability mass function that describes the probability of obtaining k successes out of n trials, and it can take on multiple values.\n",
    "\n",
    "\n",
    "#### **Usage:**\n",
    "+ Bernoulli Distribution: It is used to model a single yes/no or success/failure event.\n",
    "+ Binomial Distribution: It is used to model the number of successes in a series of independent and identical Bernoulli trials, making it suitable for situations involving multiple trials or experiments"
   ]
  },
  {
   "cell_type": "markdown",
   "id": "585e6097-0986-45eb-a90f-47f6468b28a1",
   "metadata": {},
   "source": [
    "## Q6. Consider a dataset with a mean of 50 and a standard deviation of 10. If we assume that the dataset is normally distributed, what is the probability that a randomly selected observation will be greater than 60? Use the appropriate formula and show your calculations."
   ]
  },
  {
   "cell_type": "markdown",
   "id": "548be72d-082f-42d1-9c02-f59c0620215a",
   "metadata": {},
   "source": [
    "#### To find the probability that a randomly selected observation from a normal distribution with mean $\\mu=50$ and standard deviation $\\sigma=10$ is greater than 60, we can use the standard normal distribution and the Z-score formula.\n",
    "\n",
    "#### The Z-score formula converts any value from a normal distribution to a standard normal distribution with mean 0 and standard deviation 1. The Z-score is calculated as:\n",
    "\n",
    "$$ Z = \\frac{X - \\mu}{\\sigma} $$\n",
    "#### Where X is the observed value, $\\mu$ is the mean, and $\\sigma$ is the standard deviation.\n",
    "\n",
    "#### In this case, we want to find the probability that a randomly selected observation will be greater than 60. We can calculate the Z-score for 60 as:\n",
    "\n",
    "$$ Z = \\frac{60 - 50}{10} = 1 $$\n",
    "\n",
    "#### This means that 60 is one standard deviation above the mean of 50.\n",
    "\n",
    "\n",
    "#### Now, we can use a standard normal distribution Z table or a calculator to find the probability of a value being greater than 1 in a standard normal distribution.\n",
    "\n",
    "#### For Z=1 we have Left Side Area = 0.84134\n",
    "\n",
    "$$ P(Z \\leq 1) = 0.84134 $$\n",
    "$$ P(Z > 1) = 1 -P(Z \\leq 1) = 1 - 0.84134 = 0.15866 $$\n",
    "\n",
    "\n",
    "#### Hence for Normal distribution with Mean = 50 , Standard Deviation = 10 , Probability that Values is greater than 60 is **0.15866**"
   ]
  },
  {
   "cell_type": "markdown",
   "id": "a9499100-2f9c-4504-b8e2-e00d4f212e81",
   "metadata": {},
   "source": [
    "## Q 7 : Explain uniform Distribution with an example"
   ]
  },
  {
   "cell_type": "markdown",
   "id": "6daab851-4b29-40e5-8d62-637ba200ae24",
   "metadata": {},
   "source": [
    "#### Uniform distribution is a probability distribution where every possible outcome has an equal chance of occurring. This means that the values of a random variable are spread evenly over a given interval or range.\n",
    "\n",
    "#### A classic example of a uniform distribution is the roll of a fair die. The die has six faces, each labeled with a number from 1 to 6, and all the faces are equally likely to come up when the die is rolled. Therefore, the probability of each outcome is 1/6, and this distribution is called a discrete uniform distribution.\n",
    "\n",
    "#### Lottery or raffle draws - If a lottery or raffle is conducted fairly, where each ticket has an equal chance of being drawn, the distribution of winning ticket numbers follows a discrete uniform distribution."
   ]
  },
  {
   "cell_type": "markdown",
   "id": "473b5c52-3eec-4ed6-8889-6d642d2798f1",
   "metadata": {},
   "source": [
    "![Uniform Distribution](https://analystprep.com/cfa-level-1-exam/wp-content/uploads/2021/09/cfa-level-1-continuous-uniform-random-variable-1.jpg)"
   ]
  },
  {
   "cell_type": "markdown",
   "id": "ea902b62-9921-4703-9af3-a389aada03ca",
   "metadata": {},
   "source": [
    "## Q8 : What is the Z score? State the importance of the Z score."
   ]
  },
  {
   "cell_type": "markdown",
   "id": "3c43ae1c-7bfd-4b75-a02f-ed7057ebed6a",
   "metadata": {},
   "source": [
    "#### A Z score (or standard score) is a measure of how many standard deviations an observation or data point is away from the mean of a population. The formula for calculating the Z score is:\n",
    "\n",
    "$$Z = \\frac{x - \\mu}{\\sigma}$$\n",
    "\n",
    "#### where x is the observed value, μ is the population mean, and σ is the population standard deviation.\n",
    "\n",
    "#### The importance of Z scores lies in their ability to standardize different data sets so they can be compared on a common scale. Z scores allow us to compare values from different populations or samples and see how much they differ from their respective means in standard deviation units. This makes it easier to interpret the significance of the differences between the data sets.\n",
    "\n",
    "#### In addition, Z scores can be used to calculate probabilities for a normal distribution using the standard normal distribution table. This table provides the probability of finding a value within a certain number of standard deviations from the mean.\n",
    "\n",
    "#### Z scores are commonly used in various fields such as statistics, finance, social sciences, and engineering for data analysis, hypothesis testing, and quality control. They are a powerful tool for analyzing and comparing data across different populations or samples.\n",
    "\n",
    "\n",
    "![Z Scores Explained](https://i.ytimg.com/vi/Zoi15vIgDQ8/maxresdefault.jpg)"
   ]
  },
  {
   "cell_type": "markdown",
   "id": "6e780b92-d465-44bc-b052-f95be57299a1",
   "metadata": {},
   "source": [
    "## Question 9 : What is Central Limit Theorem? State the significance of the Central Limit Theorem."
   ]
  },
  {
   "cell_type": "markdown",
   "id": "3ced0964-6aec-431e-b206-9b02b3fecd5a",
   "metadata": {},
   "source": [
    "### The Central Limit Theorem (CLT) is a fundamental concept in statistics that describes the behavior of the means of a large number of independent and identically distributed random variables, regardless of the distribution of the underlying variables.\n",
    "\n",
    "### The Central Limit Theorem states that if we take a large number of random samples from any distribution with a finite mean and variance, the sampling distribution of the means will be approximately normally distributed, regardless of the shape of the original distribution. This means that the means of the samples will tend to cluster around the true population mean, and the spread of the distribution of means will be reduced as the sample size increases.\n",
    "\n",
    "### The significance of the Central Limit Theorem lies in its wide applicability in statistics and its practical implications. Some of the important applications of the Central Limit Theorem are:\n",
    "\n",
    "1. Hypothesis testing - The Central Limit Theorem is used to test hypotheses about the means of populations, where the distribution of the population is unknown or non-normal.\n",
    "\n",
    "2. Confidence intervals - The Central Limit Theorem is used to construct confidence intervals for the population mean, which helps in estimating the true mean of a population based on a sample mean.\n",
    "\n",
    "3. Sample size determination - The Central Limit Theorem is used to determine the sample size required for a given level of precision in estimating the population mean.\n",
    "\n",
    "4. Quality control - The Central Limit Theorem is used to monitor the quality of production processes by measuring the means of samples and comparing them to the population mean.\n",
    "\n",
    "### In summary, the Central Limit Theorem is an essential concept in statistics that enables us to make inferences about populations based on samples, regardless of the underlying distribution of the data. It has important applications in various fields, making it a crucial tool for data analysis and decision-making.\n",
    "\n",
    "\n",
    "![CLT](https://cdn.corporatefinanceinstitute.com/assets/Central-Limit-Theorem-CLT-Diagram.png)"
   ]
  },
  {
   "cell_type": "markdown",
   "id": "7402d53a-6472-4d73-aaf2-1924617a9c57",
   "metadata": {},
   "source": [
    "## Question 10 : State the assumptions of the Central Limit Theorem."
   ]
  },
  {
   "cell_type": "markdown",
   "id": "ba2e34b0-5243-47b3-aa28-8c24efdb9338",
   "metadata": {},
   "source": [
    "### The Central Limit Theorem (CLT) has some assumptions that need to be satisfied for it to hold. The assumptions of the Central Limit Theorem are as follows:\n",
    "\n",
    "1. Independence - The samples must be independent of each other. In other words, the value of one sample should not depend on the value of another sample.\n",
    "\n",
    "2. Sample size - The sample size should be large enough. Generally, a sample size of at least 30 is considered to be large enough for the Central Limit Theorem to hold.\n",
    "\n",
    "3. Random sampling - The samples should be selected randomly from the population.\n",
    "\n",
    "4. Finite population or replacement - The population should be finite or the sampling should be done with replacement. If the population is infinite and the sampling is done without replacement, then the Central Limit Theorem may not hold.\n",
    "\n",
    "5. Finite mean and variance - The population should have a finite mean and variance. If the mean or variance is infinite, then the Central Limit Theorem may not hold.\n",
    "\n",
    "### If these assumptions are satisfied, then the Central Limit Theorem can be applied to the data to make inferences about the population mean or other parameters. It is important to note that violating any of these assumptions can lead to incorrect results, so it is essential to check the validity of the assumptions before applying the Central Limit Theorem."
   ]
  },
  {
   "cell_type": "code",
   "execution_count": null,
   "id": "6249f2a2-2b2d-45f1-9e55-0dd8f9fb0772",
   "metadata": {},
   "outputs": [],
   "source": []
  }
 ],
 "metadata": {
  "kernelspec": {
   "display_name": "Python 3 (ipykernel)",
   "language": "python",
   "name": "python3"
  },
  "language_info": {
   "codemirror_mode": {
    "name": "ipython",
    "version": 3
   },
   "file_extension": ".py",
   "mimetype": "text/x-python",
   "name": "python",
   "nbconvert_exporter": "python",
   "pygments_lexer": "ipython3",
   "version": "3.10.8"
  }
 },
 "nbformat": 4,
 "nbformat_minor": 5
}
