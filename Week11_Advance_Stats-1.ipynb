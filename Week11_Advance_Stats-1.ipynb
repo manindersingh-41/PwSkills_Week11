{
 "cells": [
  {
   "cell_type": "markdown",
   "id": "2c2533f9-42f4-4a1e-b675-8cafe560f54a",
   "metadata": {},
   "source": [
    "# Week 11 Advance Statistics Assignment 1"
   ]
  },
  {
   "cell_type": "markdown",
   "id": "656a8a58-f34b-4b1c-87ec-20107f52bc4f",
   "metadata": {},
   "source": [
    "### Q1. What is the Probability density function?"
   ]
  },
  {
   "cell_type": "markdown",
   "id": "579cb351-649b-4353-8bb9-66f657e75f20",
   "metadata": {},
   "source": [
    "A probability density function (PDF) is a function that describes the probability of a continuous random variable taking on a specific value. It is a graphical representation of the probability distribution of a continuous random variable. The PDF of a random variable X is denoted by fX(x), and it satisfies the following properties:\n",
    "\n",
    "+ fX(x)≥0 for all x in the support of X. <br>\n",
    "    ∞\n",
    "+ ∫  fX(x)dx=1. <br>\n",
    "    −∞\n",
    "\n",
    "The PDF of a random variable can be used to calculate the probability that X takes on a value within a specific range.\n"
   ]
  },
  {
   "cell_type": "markdown",
   "id": "e5263138-7197-44a4-84a3-049b19511b6d",
   "metadata": {},
   "source": [
    "### Q2. What are the types of Probability distribution?"
   ]
  },
  {
   "cell_type": "markdown",
   "id": "05225f49-8770-42dd-8b38-c7b73a0aa743",
   "metadata": {},
   "source": [
    "There are two main types of probability distributions: discrete and continuous.\n",
    "\n",
    "**Discrete probability** distributions are probability distributions for random variables that can only take on a certain number of values. For example, the number of heads obtained in 10 flips of a coin is a discrete random variable, because it can only take on the values 0, 1, 2, ..., 10.\n",
    "\n",
    "Some common examples of discrete probability distributions include:\n",
    "+ Bernoulli distribution\n",
    "+ Binomial distribution\n",
    "\n",
    "\n",
    "**Continuous probability** distributions are probability distributions for random variables that can take on any value within a certain range. For example, the height of a person is a continuous random variable, because it can take on any value within the range of possible human heights.\n",
    "\n",
    "Some common examples of continuous probability distributions include:\n",
    "+ Uniform distribution\n",
    "+ Normal distribution"
   ]
  },
  {
   "cell_type": "markdown",
   "id": "9e9e2046-1f27-4dec-872a-d8a08488c128",
   "metadata": {},
   "source": [
    "### Q3. Write a Python function to calculate the probability density function of a normal distribution with given mean and standard deviation at a given point."
   ]
  },
  {
   "cell_type": "code",
   "execution_count": 19,
   "id": "1f45501b-a8c1-4305-8323-cdea98fa6325",
   "metadata": {},
   "outputs": [
    {
     "name": "stdout",
     "output_type": "stream",
     "text": [
      "8.92201505099236e-05\n",
      "8.922015050992358e-05\n"
     ]
    }
   ],
   "source": [
    "import numpy as np\n",
    "import math\n",
    "from scipy.stats import norm\n",
    "def pdf(x,mean,std):\n",
    "    p = 1/(std*(math.sqrt(2*math.pi)))\n",
    "    pd = p*(math.pow(math.e,-0.5*math.pow(((x-mean)/std),2)))\n",
    "    #pdff = pd*math.pow(((x-mean)/std),2)\n",
    "    print(pd)\n",
    "\n",
    "def pdf_f(x,mean,std):\n",
    "    print(norm.pdf(x,mean,std))\n",
    "\n",
    "pdf(4,10,1.5)\n",
    "pdf_f(4,10,1.5)"
   ]
  },
  {
   "cell_type": "markdown",
   "id": "ed30ae36-b62c-49ed-8546-3edeff68acb1",
   "metadata": {},
   "source": [
    "### Q4. What are the properties of Binomial distribution? Give two examples of events where binomial distribution can be applied."
   ]
  },
  {
   "cell_type": "markdown",
   "id": "6d6b1aa2-27cf-4680-826c-1ad5bca4b3a7",
   "metadata": {},
   "source": [
    "The properties of the binomial distribution are:\n",
    "\n",
    "+ There are only two possible outcomes: true or false, success or failure, yes or no.\n",
    "+ There is a fixed number of 'n' independent trials.\n",
    "+ The probability of success or failure is the same for each trial.\n",
    "+ Only the number of successes is calculated from the n independent trials.\n",
    "\n",
    "\n",
    "Two examples of events where the binomial distribution can be applied are:\n",
    "\n",
    "+ **Flipping a coin 10 times:** This is a classic example of a binomial distribution. The number of heads obtained in 10 flips of a coin is a binomial random variable, because it can only take on the values 0, 1, 2, ..., 10. The probability of getting a head on each flip is 0.5, and the number of flips is fixed at 10.\n",
    "+ **Taking a multiple-choice test with 10 questions:** This is another example of a binomial distribution. The number of correct answers obtained on a multiple-choice test with 10 questions is a binomial random variable, because it can only take on the values 0, 1, 2, ..., 10. The probability of getting a correct answer on each question is the probability of knowing the correct answer to that question. The number of questions is fixed at 10."
   ]
  },
  {
   "cell_type": "markdown",
   "id": "8653e2b0-6445-4717-96c1-10fa1583df22",
   "metadata": {},
   "source": [
    "### Q5. Generate a random sample of size 1000 from a binomial distribution with probability of success 0.4 and plot a histogram of the results using matplotlib."
   ]
  },
  {
   "cell_type": "code",
   "execution_count": 20,
   "id": "c4e63798-fa84-4c51-8476-cae7ad68b2cc",
   "metadata": {},
   "outputs": [
    {
     "data": {
      "image/png": "[encoded data removed]",
      "text/plain": [
       "<Figure size 640x480 with 1 Axes>"
      ]
     },
     "metadata": {},
     "output_type": "display_data"
    }
   ],
   "source": [
    "import numpy as np\n",
    "from scipy.stats import binom\n",
    "import matplotlib.pyplot as plt\n",
    "\n",
    "def sample_gen(size,prob):\n",
    "    sample = binom.rvs(n=size, p = prob, size = size)\n",
    "    return sample\n",
    "\n",
    "def plotting(sample):\n",
    "    plt.hist(sample)\n",
    "    plt.title(\"Histogram of Binomial Dist.\")\n",
    "    plt.xlabel(\"number of Sucess\")\n",
    "    plt.ylabel(\"Freq\")\n",
    "    plt.show()\n",
    "    \n",
    "sample = sample_gen(1000,0.4)\n",
    "plotting(sample)"
   ]
  },
  {
   "cell_type": "markdown",
   "id": "0c2e91f2-f018-4d69-9eec-fc8e5d6f33c2",
   "metadata": {},
   "source": [
    "### Q6. Write a Python function to calculate the cumulative distribution function of a Poisson distribution with given mean at a given point."
   ]
  },
  {
   "cell_type": "code",
   "execution_count": 21,
   "id": "0926e0f4-513e-468a-9bc8-9b889be9795f",
   "metadata": {},
   "outputs": [
    {
     "name": "stdout",
     "output_type": "stream",
     "text": [
      "P(X ≤ 2) = 0.4232\n"
     ]
    }
   ],
   "source": [
    "import math\n",
    "\n",
    "def poisson_cdf(k, mean):\n",
    "    cdf = 0.0\n",
    "    for i in range(k + 1):\n",
    "        cdf += (math.pow(mean, i) * math.exp(-mean)) / math.factorial(i)\n",
    "    return cdf\n",
    "\n",
    "# Example usage:\n",
    "mean = 3.0  # Mean of the Poisson distribution\n",
    "point = 2   # Point at which to calculate the CDF\n",
    "result = poisson_cdf(point, mean)\n",
    "print(f\"P(X ≤ {point}) = {result:.4f}\")\n"
   ]
  },
  {
   "cell_type": "markdown",
   "id": "a627cddc-32c5-4cab-8ce5-098de6877fd1",
   "metadata": {},
   "source": [
    "### Q7. How Binomial distribution different from Poisson distribution?"
   ]
  },
  {
   "cell_type": "markdown",
   "id": "b47ecebb-7f14-4bdd-ace4-3560c8a6fd77",
   "metadata": {},
   "source": [
    "**Binomial distribution:**\n",
    "\n",
    "The binomial distribution is a probability distribution that describes the likelihood of a certain number of successes in a fixed number of independent trials. It is characterized by two parameters: n, the number of trials, and p, the probability of success on each trial.\n",
    "\n",
    "The binomial distribution can be used to answer questions such as:\n",
    "\n",
    "+ What is the probability of getting 5 heads in 10 flips of a coin?\n",
    "+ What is the probability of passing a multiple-choice test with 10 questions if you have a 60% chance of getting each question right?\n",
    "\n",
    "\n",
    "**Poisson distribution:**\n",
    "\n",
    "The Poisson distribution is a probability distribution that describes the likelihood of a certain number of events occurring in a fixed interval of time or space. It is characterized by a single parameter, λ, the average number of events that occur in the interval.\n",
    "\n",
    "The Poisson distribution can be used to answer questions such as:\n",
    "\n",
    "+ What is the probability of getting 10 defective products in a batch of 100 products if the average defect rate is 10%?\n",
    "+ What is the probability of having 5 customers arrive at a store in a given hour if the average arrival rate is 5 customers per hour?"
   ]
  },
  {
   "cell_type": "markdown",
   "id": "6450c13f-dc63-4ab5-9506-8a4bbb981da9",
   "metadata": {},
   "source": [
    "### Q8. Generate a random sample of size 1000 from a Poisson distribution with mean 5 and calculate the sample mean and variance."
   ]
  },
  {
   "cell_type": "code",
   "execution_count": 22,
   "id": "734526e9-a328-4f7d-b023-7bb353779ba2",
   "metadata": {},
   "outputs": [
    {
     "name": "stdout",
     "output_type": "stream",
     "text": [
      "Sample Mean: 5.0850\n",
      "Sample Variance: 5.2738\n"
     ]
    }
   ],
   "source": [
    "import numpy as np\n",
    "\n",
    "# Set the parameters\n",
    "mean = 5\n",
    "sample_size = 1000\n",
    "\n",
    "# Generate a random sample from a Poisson distribution\n",
    "random_sample = np.random.poisson(mean, sample_size)\n",
    "\n",
    "# Calculate the sample mean\n",
    "sample_mean = np.mean(random_sample)\n",
    "\n",
    "# Calculate the sample variance\n",
    "sample_variance = np.var(random_sample)\n",
    "\n",
    "print(f\"Sample Mean: {sample_mean:.4f}\")\n",
    "print(f\"Sample Variance: {sample_variance:.4f}\")\n"
   ]
  },
  {
   "cell_type": "markdown",
   "id": "93ec3d40-9c52-4822-9638-e128908494e8",
   "metadata": {},
   "source": [
    "### Q9. How mean and variance are related in Binomial distribution and Poisson distribution?"
   ]
  },
  {
   "cell_type": "markdown",
   "id": "61639d7e-1165-4308-a3b6-a0f082a10694",
   "metadata": {},
   "source": [
    "The mean (expected value) and variance in the Binomial distribution and Poisson distribution are related in the following way:\n",
    "\n",
    "**Binomial Distribution:**\n",
    "\n",
    "+ Mean (μ): For a Binomial distribution, the mean is equal to the product of the number of trials (n) and the probability of success (p). Mathematically, μ = n * p.\n",
    "+ Variance (σ^2): The variance of a Binomial distribution is equal to the product of the number of trials (n), the probability of success (p), and the probability of failure (q = 1 - p). Mathematically, σ^2 = n * p * q.\n",
    "\n",
    "The relationship between mean and variance in the Binomial distribution is directly proportional. As the number of trials (n) or the probability of success (p) increases, both the mean and variance increase. Conversely, as the probability of failure (q) increases, the variance also increases.\n",
    "\n",
    "**Poisson Distribution:** \n",
    "\n",
    "+ Mean (μ): For a Poisson distribution, the mean (μ) is equal to the average rate (λ) at which events occur within a specified interval. Mathematically, μ = λ.\n",
    "+ Variance (σ^2): The variance of a Poisson distribution is also equal to the average rate (λ). Mathematically, σ^2 = λ.\n",
    "\n",
    "In the Poisson distribution, the mean and variance are equal and are both determined by the same parameter, λ. Unlike the Binomial distribution, there is no inherent relationship between the mean and variance beyond their equality in the Poisson distribution."
   ]
  },
  {
   "cell_type": "markdown",
   "id": "8fe688fb-ffff-45bd-bd1b-dcd6710e21f4",
   "metadata": {},
   "source": [
    "### Q10. In normal distribution with respect to mean position, where does the least frequent data appear?"
   ]
  },
  {
   "cell_type": "markdown",
   "id": "b8047414-3fcb-460e-aeeb-5c93916e9f3d",
   "metadata": {},
   "source": [
    "In a normal distribution, the least frequent data appear in the tails of the distribution, which are the areas furthest from the mean. This is because the normal distribution is bell-shaped, with the most frequent data appearing in the middle of the curve and the least frequent data appearing at the extremes."
   ]
  },
  {
   "cell_type": "code",
   "execution_count": null,
   "id": "bd941340-f1e5-456a-9627-ec9ef7034e60",
   "metadata": {},
   "outputs": [],
   "source": []
  }
 ],
 "metadata": {
  "kernelspec": {
   "display_name": "Python 3 (ipykernel)",
   "language": "python",
   "name": "python3"
  },
  "language_info": {
   "codemirror_mode": {
    "name": "ipython",
    "version": 3
   },
   "file_extension": ".py",
   "mimetype": "text/x-python",
   "name": "python",
   "nbconvert_exporter": "python",
   "pygments_lexer": "ipython3",
   "version": "3.10.8"
  }
 },
 "nbformat": 4,
 "nbformat_minor": 5
}
